{
 "cells": [
  {
   "cell_type": "markdown",
   "metadata": {},
   "source": [
    "# Versiones de librerías\n",
    "```\n",
    "flask   = 1.1.2\n",
    "numpy   = 1.20.1\n",
    "pandas  = 1.2.4\n",
    "pickle  = 4.0\n",
    "sklearn = 0.24.1\n",
    "sqlite3 = 2.6.0\n",
    "```"
   ]
  },
  {
   "cell_type": "markdown",
   "metadata": {
    "id": "evlbMyhjHFsg"
   },
   "source": [
    "# Configurar runtime"
   ]
  },
  {
   "cell_type": "code",
   "execution_count": 1,
   "metadata": {
    "executionInfo": {
     "elapsed": 3037,
     "status": "ok",
     "timestamp": 1637246348216,
     "user": {
      "displayName": "Arturo Sbr",
      "photoUrl": "https://lh3.googleusercontent.com/a-/AOh14Gg6DjdNkCM_seSZ6F__cCp7zzro_J9FXcmEDQ-3rQ=s64",
      "userId": "04840778277889688221"
     },
     "user_tz": 360
    },
    "id": "P5FTtGIFFSRg"
   },
   "outputs": [],
   "source": [
    "# Cargar librerías\n",
    "import numpy as np\n",
    "import pandas as pd\n",
    "from sklearn.model_selection import train_test_split\n",
    "from sklearn.ensemble import GradientBoostingRegressor\n",
    "import pickle"
   ]
  },
  {
   "cell_type": "markdown",
   "metadata": {
    "id": "_7riDSQVIRM7"
   },
   "source": [
    "# Datos\n",
    "Todas las tablas son vienen de [ENIGH 2020](https://www.inegi.org.mx/programas/enigh/nc/2020/#Microdatos)."
   ]
  },
  {
   "cell_type": "markdown",
   "metadata": {
    "id": "jdfR248_jrFz"
   },
   "source": [
    "## Lectura"
   ]
  },
  {
   "cell_type": "markdown",
   "metadata": {
    "id": "lHHgUa_xcIcY"
   },
   "source": [
    "1. Población"
   ]
  },
  {
   "cell_type": "code",
   "execution_count": 2,
   "metadata": {
    "executionInfo": {
     "elapsed": 4017,
     "status": "ok",
     "timestamp": 1637246232089,
     "user": {
      "displayName": "Arturo Sbr",
      "photoUrl": "https://lh3.googleusercontent.com/a-/AOh14Gg6DjdNkCM_seSZ6F__cCp7zzro_J9FXcmEDQ-3rQ=s64",
      "userId": "04840778277889688221"
     },
     "user_tz": 360
    },
    "id": "c5t_2sVFKo0b"
   },
   "outputs": [],
   "source": [
    "# Población\n",
    "cols = ['folioviv','foliohog','numren','sexo','edad','hablaind','nivelaprob','hor_1','hor_2',\n",
    "        'hor_4','hor_6','pop_insabi','segvol_2','segvol_3','hijos_sob']\n",
    "p = pd.read_csv('../dat/poblacion.csv', usecols=cols, na_values=' ')"
   ]
  },
  {
   "cell_type": "markdown",
   "metadata": {
    "id": "jOSAczoJcMEl"
   },
   "source": [
    "2. Hogares"
   ]
  },
  {
   "cell_type": "code",
   "execution_count": 3,
   "metadata": {
    "executionInfo": {
     "elapsed": 1112,
     "status": "ok",
     "timestamp": 1637246233198,
     "user": {
      "displayName": "Arturo Sbr",
      "photoUrl": "https://lh3.googleusercontent.com/a-/AOh14Gg6DjdNkCM_seSZ6F__cCp7zzro_J9FXcmEDQ-3rQ=s64",
      "userId": "04840778277889688221"
     },
     "user_tz": 360
    },
    "id": "lXaOI9uTJAMD"
   },
   "outputs": [],
   "source": [
    "# Hogares\n",
    "cols = ['folioviv','foliohog','telefono','celular','tv_paga','conex_inte','num_auto','num_van',\n",
    "        'num_pickup','num_moto','num_compu']\n",
    "h = pd.read_csv('../dat/hogares.csv', usecols=cols)"
   ]
  },
  {
   "cell_type": "markdown",
   "metadata": {
    "id": "z0cmfdwYcPHi"
   },
   "source": [
    "3. Vivienda"
   ]
  },
  {
   "cell_type": "code",
   "execution_count": 4,
   "metadata": {
    "executionInfo": {
     "elapsed": 891,
     "status": "ok",
     "timestamp": 1637246234086,
     "user": {
      "displayName": "Arturo Sbr",
      "photoUrl": "https://lh3.googleusercontent.com/a-/AOh14Gg6DjdNkCM_seSZ6F__cCp7zzro_J9FXcmEDQ-3rQ=s64",
      "userId": "04840778277889688221"
     },
     "user_tz": 360
    },
    "id": "faKpOdUqc0je"
   },
   "outputs": [],
   "source": [
    "# Viviendas\n",
    "cols = ['folioviv','num_cuarto','tenencia','aire_acond','tot_resid']\n",
    "v = pd.read_csv('../dat/viviendas.csv', usecols=cols)"
   ]
  },
  {
   "cell_type": "markdown",
   "metadata": {
    "id": "Fe4_wx_WcR3g"
   },
   "source": [
    "4. Ingresos"
   ]
  },
  {
   "cell_type": "code",
   "execution_count": 5,
   "metadata": {
    "executionInfo": {
     "elapsed": 1061,
     "status": "ok",
     "timestamp": 1637246235544,
     "user": {
      "displayName": "Arturo Sbr",
      "photoUrl": "https://lh3.googleusercontent.com/a-/AOh14Gg6DjdNkCM_seSZ6F__cCp7zzro_J9FXcmEDQ-3rQ=s64",
      "userId": "04840778277889688221"
     },
     "user_tz": 360
    },
    "id": "_bfSA-a2diuG"
   },
   "outputs": [],
   "source": [
    "# Ingresos\n",
    "cols = ['folioviv','foliohog','numren','ing_tri']\n",
    "i = pd.read_csv('../dat/ingresos.csv', usecols=cols)"
   ]
  },
  {
   "cell_type": "markdown",
   "metadata": {
    "id": "prnpRRi5ju1Z"
   },
   "source": [
    "## Consolidar\n",
    "Consolidar datos en `df`"
   ]
  },
  {
   "cell_type": "code",
   "execution_count": 6,
   "metadata": {
    "executionInfo": {
     "elapsed": 388,
     "status": "ok",
     "timestamp": 1637246235929,
     "user": {
      "displayName": "Arturo Sbr",
      "photoUrl": "https://lh3.googleusercontent.com/a-/AOh14Gg6DjdNkCM_seSZ6F__cCp7zzro_J9FXcmEDQ-3rQ=s64",
      "userId": "04840778277889688221"
     },
     "user_tz": 360
    },
    "id": "0Hv-1Ldsh23O"
   },
   "outputs": [],
   "source": [
    "# Merge ingreso y población\n",
    "df = pd.merge(i, p, how='left', on=['folioviv','foliohog','numren'])\n",
    "\n",
    "# Agregar hogares\n",
    "df = df.merge(h, how='left', on=['folioviv','foliohog'])\n",
    "\n",
    "# Agregar viviendas\n",
    "df = df.merge(v, how='left', on=['folioviv'])"
   ]
  },
  {
   "cell_type": "markdown",
   "metadata": {
    "id": "IxghCKpUjwbt"
   },
   "source": [
    "## Limpieza"
   ]
  },
  {
   "cell_type": "markdown",
   "metadata": {
    "id": "krDuZZ3Qchs5"
   },
   "source": [
    "### Filtros"
   ]
  },
  {
   "cell_type": "code",
   "execution_count": 7,
   "metadata": {
    "executionInfo": {
     "elapsed": 357,
     "status": "ok",
     "timestamp": 1637246240069,
     "user": {
      "displayName": "Arturo Sbr",
      "photoUrl": "https://lh3.googleusercontent.com/a-/AOh14Gg6DjdNkCM_seSZ6F__cCp7zzro_J9FXcmEDQ-3rQ=s64",
      "userId": "04840778277889688221"
     },
     "user_tz": 360
    },
    "id": "tSOQMniAi74O"
   },
   "outputs": [],
   "source": [
    "# Filtros poblacionales\n",
    "df = df[df['foliohog'].eq(1) & df['edad'].ge(18) & df['nivelaprob'].notna()].copy()"
   ]
  },
  {
   "cell_type": "markdown",
   "metadata": {
    "id": "7oaDEysPcd9T"
   },
   "source": [
    "### Modificación de columnas"
   ]
  },
  {
   "cell_type": "code",
   "execution_count": 8,
   "metadata": {
    "executionInfo": {
     "elapsed": 295,
     "status": "ok",
     "timestamp": 1637246244780,
     "user": {
      "displayName": "Arturo Sbr",
      "photoUrl": "https://lh3.googleusercontent.com/a-/AOh14Gg6DjdNkCM_seSZ6F__cCp7zzro_J9FXcmEDQ-3rQ=s64",
      "userId": "04840778277889688221"
     },
     "user_tz": 360
    },
    "id": "hN5XTp6xkLm7"
   },
   "outputs": [],
   "source": [
    "# Ingreso mensual\n",
    "df['ingreso'] = df['ing_tri'].div(3)\n",
    "\n",
    "# Llenar NaNs\n",
    "cols = ['hor_1','hor_2','hor_4','hor_6','segvol_3','hijos_sob']\n",
    "df[cols] = df[cols].fillna(0)\n",
    "\n",
    "# Traducir binarias a {0,1}\n",
    "cols = ['sexo','pop_insabi','telefono','celular','tv_paga','conex_inte','aire_acond']\n",
    "df[cols] = df[cols] - 1\n",
    "df['hablaind'] = df['hablaind'].replace(2,0)\n",
    "df[['segvol_2','segvol_3']] = (df[['segvol_2','segvol_3']] > 0)\n",
    "\n",
    "# Categóricas a enteros\n",
    "cat = ['sexo','hablaind','nivelaprob','pop_insabi','segvol_2','segvol_3','telefono','celular',\n",
    "       'tv_paga','conex_inte','tenencia','aire_acond']\n",
    "df[cat] = df[cat].apply(lambda x: x.astype(int))\n",
    "\n",
    "# Número de vehículos\n",
    "df['num_auto'] = df[['num_auto','num_van','num_pickup']].sum(axis=1)\n",
    "\n",
    "# Quitar columnas inútiles\n",
    "df.drop(columns=['ing_tri','num_van','num_pickup'], inplace=True)"
   ]
  },
  {
   "cell_type": "markdown",
   "metadata": {
    "id": "eYq32fxnHtW_"
   },
   "source": [
    "#### Multicategóricas\n",
    "1. Mapping de `nivelaprob`\n",
    "\n",
    "        df.groupby('nivelaprob')['ingreso'].mean().sort_values()\n",
    "\n",
    "| Máximo grado | Valor INEGI |  Input   | Map |\n",
    "|--------------|-------------|----------|-----|\n",
    "|Ninguno       |            0|secundaria|  0  |\n",
    "|Preescolar    |            1|secundaria|  0  | \n",
    "|Primaria      |            2|secundaria|  0  |\n",
    "|Secundaria    |            3|secundaria|  0  |\n",
    "|Preparatoria  |            4|   prepa  |  1  |\n",
    "|Normal        |            5|  carrera |  2  |\n",
    "|Técnica       |            6|  carrera |  2  |\n",
    "|Profesional   |            7|  carrera |  2  |\n",
    "|Maestría      |            8| maestria |  3  |\n",
    "|Doctorado     |            9| doctorado|  4  |\n",
    "\n",
    "1. Mapping de `tenencia`\n",
    "\n",
    "        df.groupby('tenencia')['ingreso'].mean().sort_values()\n",
    "\n",
    "| Tenencia | valor INEGI |   Map    | Map |\n",
    "|----------|-------------|----------|-----|\n",
    "|Rentada   |            1|Rentada   |  2  |\n",
    "|Prestada  |            2|Otra      |  0  |\n",
    "|Propia    |            3|Propia    |  3  |\n",
    "|Pagando   |            4|Hipotecada|  1  |\n",
    "|Litigio   |            5|Otra      |  0  |\n",
    "|Otra      |            6|Otra      |  0  |"
   ]
  },
  {
   "cell_type": "code",
   "execution_count": 9,
   "metadata": {
    "executionInfo": {
     "elapsed": 113,
     "status": "ok",
     "timestamp": 1637246256671,
     "user": {
      "displayName": "Arturo Sbr",
      "photoUrl": "https://lh3.googleusercontent.com/a-/AOh14Gg6DjdNkCM_seSZ6F__cCp7zzro_J9FXcmEDQ-3rQ=s64",
      "userId": "04840778277889688221"
     },
     "user_tz": 360
    },
    "id": "Ix43fc_xHRdf"
   },
   "outputs": [],
   "source": [
    "# Ordenar nivelaprob\n",
    "d_educ = {0:0,1:0,2:0,3:0, # Secundaria o menos\n",
    "          4:1,             # Prepa\n",
    "          5:2,6:2,7:2,     # Carrera\n",
    "          8:3,             # Maestría\n",
    "          9:4}             # Doctorado\n",
    "df['nivelaprob'] = df['nivelaprob'].replace(d_educ)\n",
    "\n",
    "# Ordenar tenencia\n",
    "d_casa = {2:0,5:0,6:0,     # Otra\n",
    "          4:1,             # Hipotecada\n",
    "          1:2,             # Rentada\n",
    "          3:3}             # Propia"
   ]
  },
  {
   "cell_type": "markdown",
   "metadata": {
    "id": "3kdErYwK27_C"
   },
   "source": [
    "# Entrenar modelo\n",
    "Pasos a seguir:\n",
    "1. Partir datos en `train` y `test`\n",
    "1. Entrenar un [Gradient Boosting Regressor](https://scikit-learn.org/stable/modules/generated/sklearn.ensemble.GradientBoostingRegressor.html) sobre datos de entrenamiento y usando todos los atributos\n",
    "1. Verificar que el desempeño sea similar entre `train` y `test`\n",
    "1. Quedarnos solo con los mejores 10 atributos\n",
    "1. Volver a entrenar con el 100% de la muestra"
   ]
  },
  {
   "cell_type": "markdown",
   "metadata": {
    "id": "tFeW9l-HRDu9"
   },
   "source": [
    "## 1. Dividir en train y test"
   ]
  },
  {
   "cell_type": "code",
   "execution_count": 10,
   "metadata": {
    "executionInfo": {
     "elapsed": 165,
     "status": "ok",
     "timestamp": 1637246358925,
     "user": {
      "displayName": "Arturo Sbr",
      "photoUrl": "https://lh3.googleusercontent.com/a-/AOh14Gg6DjdNkCM_seSZ6F__cCp7zzro_J9FXcmEDQ-3rQ=s64",
      "userId": "04840778277889688221"
     },
     "user_tz": 360
    },
    "id": "SJEJgGOJRW_B"
   },
   "outputs": [],
   "source": [
    "X_train, X_test, y_train, y_test = train_test_split(df.loc[:, 'sexo':'tot_resid'], df['ingreso'],\n",
    "                                                    test_size=0.1, random_state=123)"
   ]
  },
  {
   "cell_type": "markdown",
   "metadata": {
    "id": "aS9VksKBSaiz"
   },
   "source": [
    "## 2. Entrenar sobre datos de entrenamiento"
   ]
  },
  {
   "cell_type": "code",
   "execution_count": 11,
   "metadata": {
    "colab": {
     "base_uri": "https://localhost:8080/"
    },
    "executionInfo": {
     "elapsed": 124563,
     "status": "ok",
     "timestamp": 1637246515954,
     "user": {
      "displayName": "Arturo Sbr",
      "photoUrl": "https://lh3.googleusercontent.com/a-/AOh14Gg6DjdNkCM_seSZ6F__cCp7zzro_J9FXcmEDQ-3rQ=s64",
      "userId": "04840778277889688221"
     },
     "user_tz": 360
    },
    "id": "9ZED5UlRRezY",
    "outputId": "22584c33-c052-43b2-ad55-d1573f0c6c3a"
   },
   "outputs": [
    {
     "data": {
      "text/plain": [
       "GradientBoostingRegressor(learning_rate=0.03, n_estimators=300,\n",
       "                          random_state=123)"
      ]
     },
     "execution_count": 11,
     "metadata": {},
     "output_type": "execute_result"
    }
   ],
   "source": [
    "# Hiperparámetros\n",
    "gb = GradientBoostingRegressor(loss='ls', learning_rate=0.03, n_estimators=300,\n",
    "                               max_depth=3, random_state=123)\n",
    "# Fit\n",
    "gb.fit(X_train.values, y_train.values)"
   ]
  },
  {
   "cell_type": "markdown",
   "metadata": {
    "id": "4C6gp7MWSWsW"
   },
   "source": [
    "## 3. Desempeño entre datos de entrenamiento y prueba"
   ]
  },
  {
   "cell_type": "code",
   "execution_count": 12,
   "metadata": {
    "colab": {
     "base_uri": "https://localhost:8080/"
    },
    "executionInfo": {
     "elapsed": 2091,
     "status": "ok",
     "timestamp": 1637246587171,
     "user": {
      "displayName": "Arturo Sbr",
      "photoUrl": "https://lh3.googleusercontent.com/a-/AOh14Gg6DjdNkCM_seSZ6F__cCp7zzro_J9FXcmEDQ-3rQ=s64",
      "userId": "04840778277889688221"
     },
     "user_tz": 360
    },
    "id": "kGZdl5bNSgwN",
    "outputId": "b7516b9f-287e-48b2-f65b-c5031421f46a"
   },
   "outputs": [
    {
     "name": "stdout",
     "output_type": "stream",
     "text": [
      "Train: 0.155\n",
      "Test:  0.141\n"
     ]
    }
   ],
   "source": [
    "# Performance en train\n",
    "print('Train:', round(gb.score(X_train.values, y_train.values), 3))\n",
    "# Performance en test\n",
    "print('Test: ', round(gb.score(X_test.values, y_test.values), 3))"
   ]
  },
  {
   "cell_type": "markdown",
   "metadata": {
    "id": "ItCxIdbegGXF"
   },
   "source": [
    "No hay _tanta_ diferencia entre los scores.\n",
    "- 0.155\n",
    "- 0.141"
   ]
  },
  {
   "cell_type": "markdown",
   "metadata": {
    "id": "dbATDsznPucq"
   },
   "source": [
    "## 4. Conservar top 10 features"
   ]
  },
  {
   "cell_type": "code",
   "execution_count": 13,
   "metadata": {
    "executionInfo": {
     "elapsed": 134,
     "status": "ok",
     "timestamp": 1637246646202,
     "user": {
      "displayName": "Arturo Sbr",
      "photoUrl": "https://lh3.googleusercontent.com/a-/AOh14Gg6DjdNkCM_seSZ6F__cCp7zzro_J9FXcmEDQ-3rQ=s64",
      "userId": "04840778277889688221"
     },
     "user_tz": 360
    },
    "id": "2yoFTn3VSir-"
   },
   "outputs": [],
   "source": [
    "# Visualizar top 10 atributos\n",
    "t_gb = pd.DataFrame({'feature':X_train.columns, 'importance':gb.feature_importances_ * 100})\n",
    "t_gb = t_gb.sort_values('importance', ascending=False).reset_index(drop=True)\n",
    "t_gb.round(1).head(10)\n",
    "\n",
    "# Conservar top 10 atributos\n",
    "x = t_gb['feature'].values.tolist()[:10]"
   ]
  },
  {
   "cell_type": "markdown",
   "metadata": {
    "id": "SUbPL6PJTRdb"
   },
   "source": [
    "## 5. Reentrenar sobre toda la muestra usando 10 atributos"
   ]
  },
  {
   "cell_type": "code",
   "execution_count": 14,
   "metadata": {
    "colab": {
     "base_uri": "https://localhost:8080/"
    },
    "executionInfo": {
     "elapsed": 78638,
     "status": "ok",
     "timestamp": 1637246770425,
     "user": {
      "displayName": "Arturo Sbr",
      "photoUrl": "https://lh3.googleusercontent.com/a-/AOh14Gg6DjdNkCM_seSZ6F__cCp7zzro_J9FXcmEDQ-3rQ=s64",
      "userId": "04840778277889688221"
     },
     "user_tz": 360
    },
    "id": "LOfGjoBOVKGA",
    "outputId": "d1d861b3-9b39-4cde-d01e-bfab9e6af216"
   },
   "outputs": [
    {
     "data": {
      "text/plain": [
       "GradientBoostingRegressor(learning_rate=0.03, n_estimators=300,\n",
       "                          random_state=123)"
      ]
     },
     "execution_count": 14,
     "metadata": {},
     "output_type": "execute_result"
    }
   ],
   "source": [
    "# Fit sobre 100%\n",
    "gb.fit(df[sorted(x)].values, df['ingreso'].values)"
   ]
  },
  {
   "cell_type": "code",
   "execution_count": 15,
   "metadata": {
    "colab": {
     "base_uri": "https://localhost:8080/"
    },
    "executionInfo": {
     "elapsed": 1552,
     "status": "ok",
     "timestamp": 1637246857232,
     "user": {
      "displayName": "Arturo Sbr",
      "photoUrl": "https://lh3.googleusercontent.com/a-/AOh14Gg6DjdNkCM_seSZ6F__cCp7zzro_J9FXcmEDQ-3rQ=s64",
      "userId": "04840778277889688221"
     },
     "user_tz": 360
    },
    "id": "X8_SaR0bgfdN",
    "outputId": "df24e502-a379-4f4c-96bb-832777cf4600"
   },
   "outputs": [
    {
     "data": {
      "text/plain": [
       "0.14"
      ]
     },
     "execution_count": 15,
     "metadata": {},
     "output_type": "execute_result"
    }
   ],
   "source": [
    "# Nuevo score\n",
    "round(gb.score(df[sorted(x)].values, df['ingreso'].values), 2)"
   ]
  },
  {
   "cell_type": "markdown",
   "metadata": {
    "id": "4vcgWWTghGlD"
   },
   "source": [
    "El score no subió mucho desde que entrenamos con solo 90%.\n",
    "\n",
    "- 0.14\n",
    "\n",
    "Por ende conservaremos este modelo."
   ]
  },
  {
   "cell_type": "markdown",
   "metadata": {
    "id": "B4G5d1gMhYLp"
   },
   "source": [
    "# Exportar modelo"
   ]
  },
  {
   "cell_type": "code",
   "execution_count": 18,
   "metadata": {
    "executionInfo": {
     "elapsed": 123,
     "status": "ok",
     "timestamp": 1637247145091,
     "user": {
      "displayName": "Arturo Sbr",
      "photoUrl": "https://lh3.googleusercontent.com/a-/AOh14Gg6DjdNkCM_seSZ6F__cCp7zzro_J9FXcmEDQ-3rQ=s64",
      "userId": "04840778277889688221"
     },
     "user_tz": 360
    },
    "id": "VGC7l37HhbS-"
   },
   "outputs": [],
   "source": [
    "pickle.dump(gb, open('../model/gbr.pkl', 'wb'))"
   ]
  },
  {
   "cell_type": "markdown",
   "metadata": {},
   "source": [
    "# Exportar datos"
   ]
  },
  {
   "cell_type": "code",
   "execution_count": 17,
   "metadata": {},
   "outputs": [],
   "source": [
    "# Agregar `pid` (person id)\n",
    "df = df[['ingreso'] + sorted(x)]\n",
    "df.reset_index(inplace=True)\n",
    "\n",
    "# Renombrar columnas\n",
    "df.columns = ['pid','ingreso','internet','edad','hrs_trab','educacion','num_autos','num_compu',\n",
    "              'num_cuartos','seguro_med','mujer','resid']\n",
    "\n",
    "# Exportar\n",
    "df.to_csv('../dat/df.csv', index=False)"
   ]
  }
 ],
 "metadata": {
  "colab": {
   "authorship_tag": "ABX9TyN5RTzR8qLmwPVBAX3l+0Dc",
   "collapsed_sections": [],
   "mount_file_id": "1x0-w-BlFqVQmD5UHoGuqn0pIpBLgV6gb",
   "name": "gb_regressor.ipynb",
   "provenance": [],
   "toc_visible": true
  },
  "kernelspec": {
   "display_name": "Python 3",
   "language": "python",
   "name": "python3"
  },
  "language_info": {
   "codemirror_mode": {
    "name": "ipython",
    "version": 3
   },
   "file_extension": ".py",
   "mimetype": "text/x-python",
   "name": "python",
   "nbconvert_exporter": "python",
   "pygments_lexer": "ipython3",
   "version": "3.8.8"
  }
 },
 "nbformat": 4,
 "nbformat_minor": 1
}
